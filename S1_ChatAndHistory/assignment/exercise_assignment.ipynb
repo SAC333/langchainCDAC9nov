{
 "cells": [
  {
   "cell_type": "code",
   "execution_count": 22,
   "metadata": {},
   "outputs": [],
   "source": [
    "import os\n",
    "import configparser\n",
    "from langchain_groq import ChatGroq\n",
    "from langchain_cohere import ChatCohere\n",
    "from langchain_core.messages import HumanMessage, SystemMessage\n",
    "\n",
    "from langchain.memory import ConversationBufferMemory \n",
    "\n",
    "# Configuration setup\n",
    "config = configparser.ConfigParser()\n",
    "config.read('/workspaces/langchainCDAC9nov/config.ini')\n",
    "groq = config['groq']\n",
    "cohere = config['cohere']\n",
    "\n",
    "os.environ['GROQ_API_KEY'] = groq.get('GROQ_API_KEY')\n",
    "os.environ['COHERE_API_KEY'] = cohere.get('COHERE_API_KEY')\n"
   ]
  },
  {
   "cell_type": "code",
   "execution_count": 27,
   "metadata": {},
   "outputs": [],
   "source": [
    "store = {}\n",
    "from langchain_core.runnables.history import RunnableWithMessageHistory\n",
    "from langchain_core.chat_history import (\n",
    "    BaseChatMessageHistory,\n",
    "    InMemoryChatMessageHistory,\n",
    ")\n",
    "# Function to retrieve session-specific history or create a new one\n",
    "def get_session_history(session_id: str) -> InMemoryChatMessageHistory:\n",
    "    if session_id not in store:\n",
    "        store[session_id] = InMemoryChatMessageHistory()  # Create a new history store for this session\n",
    "    return store[session_id]\n",
    "\n",
    "# Function to simulate conversation and store messages\n",
    "async def chat_with_model(model, session_id, prompt):\n",
    "    # Get the session history\n",
    "    conversation_history = get_session_history(session_id)\n",
    "\n",
    "    # Add user input to the conversation history\n",
    "    conversation_history.add_message(HumanMessage(content=prompt))\n",
    "    \n",
    "    # Get the model's response based on the session's history\n",
    "    response = model.invoke([SystemMessage(content=\"You are a Bollywood storyteller.\"),\n",
    "                             HumanMessage(content=prompt)])\n",
    "    \n",
    "    # Add model's response to conversation history\n",
    "    conversation_history.add_message(SystemMessage(content=response.content))\n",
    "    \n",
    "    return response.content"
   ]
  },
  {
   "cell_type": "code",
   "execution_count": 28,
   "metadata": {},
   "outputs": [],
   "source": [
    "# Random element pickers for actor, location, and theme\n",
    "import random\n",
    "def actor_picker():\n",
    "    actors = [\"Shah Rukh Khan\", \"Deepika Padukone\", \"Ranbir Kapoor\", \"Alia Bhatt\"]\n",
    "    return random.choice(actors)\n",
    "\n",
    "def location_picker():\n",
    "    locations = [\"Shimla\", \"Mumbai\", \"Goa\", \"Jaipur\"]\n",
    "    return random.choice(locations)\n",
    "\n",
    "def theme_picker():\n",
    "    themes = [\"Adventure\", \"Romance\", \"Thriller\", \"Drama\"]\n",
    "    return random.choice(themes)"
   ]
  },
  {
   "cell_type": "code",
   "execution_count": 29,
   "metadata": {},
   "outputs": [],
   "source": [
    "# Functions to generate stories using different models\n",
    "async def generate_story_cohere(actor, location, theme):\n",
    "    session_id = \"cohere_story\"\n",
    "    prompt = f\"Create a Bollywood story starring {actor}, set in {location}, with a theme of {theme}.\"\n",
    "    cohere_model = ChatCohere(model=\"command-r-plus\")\n",
    "    return await chat_with_model(cohere_model, session_id, prompt)\n",
    "\n",
    "async def generate_story_groq(actor, location, theme):\n",
    "    session_id = \"groq_story\"\n",
    "    prompt = f\"Create a Bollywood story starring {actor}, set in {location}, with a theme of {theme}.\"\n",
    "    groq_model = ChatGroq(model=\"llama3-8b-8192\")\n",
    "    return await chat_with_model(groq_model, session_id, prompt)"
   ]
  },
  {
   "cell_type": "code",
   "execution_count": 30,
   "metadata": {},
   "outputs": [
    {
     "name": "stdout",
     "output_type": "stream",
     "text": [
      "Selected Actor: Alia Bhatt\n",
      "Selected Location: Jaipur\n",
      "Selected Theme: Drama\n"
     ]
    }
   ],
   "source": [
    "# Randomly pick elements for the story\n",
    "actor = actor_picker()\n",
    "location = location_picker()\n",
    "theme = theme_picker()\n",
    "\n",
    "# Print selected elements\n",
    "print(f\"Selected Actor: {actor}\")\n",
    "print(f\"Selected Location: {location}\")\n",
    "print(f\"Selected Theme: {theme}\")"
   ]
  },
  {
   "cell_type": "code",
   "execution_count": 31,
   "metadata": {},
   "outputs": [
    {
     "name": "stdout",
     "output_type": "stream",
     "text": [
      "\n",
      "Story from Cohere Model:\n",
      "Once upon a time, in the vibrant city of Jaipur, lived a young and talented artist named Alia. Alia Bhatt was an aspiring painter who dreamed of showcasing her artwork to the world. She spent her days capturing the rich culture and vibrant hues of Jaipur in her canvases. The bustling markets, the majestic palaces, and the lively people of the city inspired her immensely. \n",
      "\n",
      "However, Alia's life took an unexpected turn when she received news that her father, a renowned archaeologist, had gone missing while on an expedition to uncover ancient ruins outside the city. Determined to find her father, Alia embarked on a journey that took her deep into the mysterious and rugged terrain surrounding Jaipur. \n",
      "\n",
      "As she ventured forth, she encountered a world of secrets and intrigue. She discovered that her father's disappearance was linked to a long-forgotten rivalry between two powerful families, one of which held a deep connection to her own past. As Alia delved deeper, she found herself entangled in a web of lies, betrayal, and hidden identities. \n",
      "\n",
      "Along the way, she met a charming and mysterious stranger, Rahul, who offered to help her in her quest. As they worked together, a budding romance blossomed between them, providing a respite from the mounting tensions and dangers they faced. \n",
      "\n",
      "But as the truth behind her father's disappearance unraveled, Alia realized that nothing was as it seemed. She found herself questioning everyone around her, including those she trusted the most. The drama intensified as long-buried secrets came to light, threatening not just her father's life but also the stability of the city itself. \n",
      "\n",
      "With each step, Alia's artistic spirit and unwavering determination guided her through the twists and turns of her journey. She used her creativity and quick thinking to navigate the challenges that lay before her. The vibrant culture of Jaipur became both her inspiration and her shield as she fought to unravel the truth and bring peace to the city she called home. \n",
      "\n",
      "In a climactic showdown, Alia's courage and resourcefulness were put to the ultimate test. With the fate of her father and Jaipur hanging in the balance, she had to make a choice that would change her life forever. \n",
      "\n",
      "Through it all, Alia's journey taught her that true strength lies not only in one's passion but also in the power of forgiveness and reconciliation. Her story became a testament to the resilience of the human spirit and the ability to find light even in the darkest of dramas. \n",
      "\n",
      "And so, in the end, as the sun set over the majestic city of Jaipur, Alia Bhatt stood as a beacon of hope, reminding us all that even in the midst of drama and uncertainty, beauty and truth can always prevail. \n",
      "\n",
      "This is the tale of Alia, a young artist from Jaipur, whose life became a canvas of drama, love, and self-discovery, forever etched in the vibrant colors of her beloved city. \n",
      "\n",
      "The End.\n",
      "\n",
      "\n",
      "Story from Groq Model:\n",
      "Title: \"Dil Ki Dhadkan\" (The Beat of the Heart)\n",
      "\n",
      "Story:\n",
      "\n",
      "Alia Bhatt plays the role of Aisha, a free-spirited and creative young woman who has just moved to Jaipur to pursue her passion for painting. She is the daughter of a wealthy businessman, but she has always felt stifled by the expectations of her family and society. Aisha is determined to make a name for herself as an artist and prove to herself and others that she is more than just a privileged upbringing.\n",
      "\n",
      "In Jaipur, Aisha meets Rohan (played by Ranveer Singh), a charming and talented musician who is struggling to make a living in the city. Despite their different backgrounds and personalities, they are drawn to each other and begin a whirlwind romance.\n",
      "\n",
      "As their relationship deepens, Aisha and Rohan face numerous challenges. Aisha's family is opposed to their relationship, and Rohan's past demons begin to resurface. Aisha's father, who owns a large textile mill, wants her to marry into a wealthy family and continue the family business. Rohan, on the other hand, has a troubled past and is haunted by the memories of his abusive father.\n",
      "\n",
      "As the stakes rise, Aisha and Rohan are forced to confront their true feelings and make difficult choices. Will they be able to overcome the obstacles in their path and be together, or will they let their fears and doubts tear them apart?\n",
      "\n",
      "Meanwhile, Aisha's artistic talents are discovered by a local gallery owner, who offers her a chance to showcase her work. As she becomes more successful, Aisha must navigate the cutthroat art world and balance her newfound fame with her love for Rohan.\n",
      "\n",
      "Climax:\n",
      "\n",
      "As Aisha's art career takes off, she is torn between her passion for painting and her love for Rohan. She realizes that she cannot have it all and must make a choice. In a dramatic turn of events, Aisha decides to leave Rohan and focus on her art. But Rohan, who has been watching her from afar, appears at the gallery opening and confesses his love for her.\n",
      "\n",
      "The two share a passionate dance performance, and Aisha realizes that she cannot live without Rohan. They reunite, and Aisha decides to pursue her art on her own terms, with Rohan's support.\n",
      "\n",
      "Musical Numbers:\n",
      "\n",
      "1. \"Dil Ki Dhadkan\" - A romantic duet between Alia Bhatt and Ranveer Singh, showcasing their chemistry on screen.\n",
      "2. \"Rang De\" - A vibrant, colorful song featuring Alia Bhatt and a group of dancers, celebrating the colors of Jaipur.\n",
      "3. \"Tere Bina\" - A soulful, emotional ballad sung by Ranveer Singh, expressing his longing for Aisha.\n",
      "4. \"Katra Katra\" - A lively, upbeat track featuring Alia Bhatt and Ranveer Singh, showcasing their playful banter and chemistry.\n",
      "5. \"Dil Hai Mere\" - A romantic, slow-burning duet between Alia Bhatt and Ranveer Singh, highlighting their love for each other.\n",
      "\n",
      "Themes:\n",
      "\n",
      "* The struggle to balance personal and professional goals\n",
      "* The power of art to express oneself and overcome challenges\n",
      "* The importance of following one's passion and being true to oneself\n",
      "* The theme of family expectations vs. personal desires\n",
      "\n",
      "Locations:\n",
      "\n",
      "* Jaipur, Rajasthan (various locations such as the City Palace, Hawa Mahal, and the Amer Fort)\n",
      "* A local art studio and gallery\n",
      "* A picturesque lake and garden where Aisha and Rohan share a romantic moment\n",
      "\n",
      "Costumes:\n",
      "\n",
      "* Aisha's costumes will be a mix of modern, bohemian styles and traditional Rajasthani attire, reflecting her artistic and free-spirited personality.\n",
      "* Rohan's costumes will be a blend of casual, laid-back wear and formal, stylish outfits, showcasing his charming and artistic side.\n",
      "\n",
      "This Bollywood drama will be a heartwarming, emotional rollercoaster, with stunning visuals, catchy music, and a strong performance from Alia Bhatt and Ranveer Singh.\n",
      "\n"
     ]
    }
   ],
   "source": [
    "cohere_story = await generate_story_cohere(actor, location, theme)\n",
    "print(f\"\\nStory from Cohere Model:\\n{cohere_story}\\n\")\n",
    "\n",
    "groq_story = await generate_story_groq(actor, location, theme)\n",
    "print(f\"\\nStory from Groq Model:\\n{groq_story}\\n\")"
   ]
  },
  {
   "cell_type": "code",
   "execution_count": 32,
   "metadata": {},
   "outputs": [],
   "source": [
    "# Simulate user customization of the story\n",
    "user_input = \"Change the location to Goa and make it a romantic theme.\"\n",
    "session_id = \"session_123\"  "
   ]
  },
  {
   "cell_type": "code",
   "execution_count": 33,
   "metadata": {},
   "outputs": [
    {
     "name": "stdout",
     "output_type": "stream",
     "text": [
      "\n",
      "Modified Story from Cohere:\n",
      "Once upon a time, in the vibrant and sunny state of Goa, there lived a young and free-spirited couple, Rahul and Priya. They were as different as chalk and cheese but shared an unwavering love for the breathtaking beaches and vibrant culture that Goa offered.\n",
      "\n",
      "Rahul, a local Goan boy, was a surfer and a self-proclaimed beach bum. He spent his days riding the waves and charming the tourists with his good looks and easy-going personality. Priya, on the other hand, was an artist from the city, who had fallen in love with Goa's vibrant colors and laid-back lifestyle. She spent her days painting the beautiful landscapes and selling her artwork to the locals and tourists alike.\n",
      "\n",
      "As fate would have it, Rahul and Priya met one fateful day on Calangute Beach. Priya was captivated by Rahul's surfing skills, and Rahul was instantly smitten by Priya's unique spirit and talent. They struck up a conversation, and soon realized they shared a deep connection and a love for everything Goa represented - freedom, love, and a celebration of life.\n",
      "\n",
      "They began spending every waking moment together, exploring the hidden coves and secluded beaches that Goa had to offer. They danced under the full moon, dined on fresh seafood, and made memories that would last a lifetime. Their love blossomed against the backdrop of the stunning Goan sunset, and they became the epitome of a perfect romantic couple.\n",
      "\n",
      "However, as in all good love stories, their path to happiness was not without challenges. Priya's parents disapproved of their daughter's choice to live a bohemian life in Goa, and Rahul's family expected him to settle down and take over the family business. The couple faced a difficult decision - to follow their hearts or conform to societal expectations.\n",
      "\n",
      "Determined to fight for their love, Rahul and Priya decided to elope and get married in a simple yet beautiful ceremony on the beach, with only the sound of the waves and the blessing of the setting sun as their witnesses. They vowed to spend the rest of their lives together, embracing the unknown and cherishing the freedom and love that brought them together.\n",
      "\n",
      "Life after their elopement was not always easy, but their love remained strong. They faced the challenges of making a living in Goa, balancing their passions with the practicalities of life. Priya's artwork gained recognition, and she began teaching art classes to local children. Rahul, with his natural charm and surfing skills, became a sought-after surf instructor for tourists and locals alike.\n",
      "\n",
      "As the years passed, their love story became a legend in Goa, inspiring other couples to follow their hearts and embrace the unique spirit of the state. Rahul and Priya's home became a sanctuary for lovers, a place where they welcomed everyone with open arms, sharing their story and spreading the message of love and freedom.\n",
      "\n",
      "On warm, balmy nights, you could still find Rahul and Priya, hand in hand, walking along the beach, their love as strong as the day they met. Their story, a testament to the power of following your heart and embracing the beauty of life, continues to inspire generations of lovers who visit the sunny shores of Goa, in search of their own magical love story.\n",
      "\n",
      "And so, the tale of Rahul and Priya, the quintessential Goan romantic couple, lives on forever, etched in the sandy beaches and colorful landscapes of this magical state.\n"
     ]
    }
   ],
   "source": [
    "# Get customized story responses\n",
    "response_cohere = await chat_with_model(cohere_model, session_id, user_input)\n",
    "print(f\"\\nModified Story from Cohere:\\n{response_cohere}\")"
   ]
  },
  {
   "cell_type": "code",
   "execution_count": null,
   "metadata": {},
   "outputs": [],
   "source": []
  },
  {
   "cell_type": "code",
   "execution_count": 34,
   "metadata": {},
   "outputs": [
    {
     "name": "stdout",
     "output_type": "stream",
     "text": [
      "\n",
      "Modified Story from Groq:\n",
      "The sun-kissed beaches of Goa, the perfect backdrop for a romantic tale of love and longing. Let me weave a story for you, a tale of two souls who find each other amidst the picturesque landscape of this beautiful state.\n",
      "\n",
      "Meet Aarav, a young and charming hotelier who has inherited a quaint beachside resort in North Goa. He's a free spirit, always chasing the next big thrill, but deep down, he's searching for something more meaningful in life.\n",
      "\n",
      "Enter Nalini, a stunning and talented photographer who has just moved to Goa to escape the monotony of city life. She's a hopeless romantic, always on the lookout for inspiration for her next big project. Her eyes are like the ocean, sparkling with secrets and stories waiting to be told.\n",
      "\n",
      "Aarav and Nalini's paths cross at a quaint little café in Ashwem, where Aarav is trying to convince the owner to let him host a music festival at his resort. Nalini, sipping on a strong cup of coffee, is immediately drawn to Aarav's infectious energy and charisma. They strike up a conversation, and before they know it, the sun sets over the Arabian Sea, painting the sky with hues of orange and pink.\n",
      "\n",
      "As the days go by, Aarav and Nalini find themselves lost in each other's eyes, exploring the hidden coves and secluded beaches of Goa. They take long walks along the beach, sharing stories of their past, their dreams, and their fears. Aarav is captivated by Nalini's artistic soul, and Nalini is swept away by Aarav's entrepreneurial spirit.\n",
      "\n",
      "But their love is not without its challenges. Aarav's family is against their relationship, fearing that Nalini is just a passing fancy, a distraction from Aarav's true calling. Nalini, on the other hand, is struggling to balance her creative passion with the harsh realities of making a living in a small town like Goa.\n",
      "\n",
      "As the music festival approaches, Aarav and Nalini must confront their doubts and fears. Will they be able to overcome the obstacles and find a way to be together, or will the tides of fate tear them apart?\n",
      "\n",
      "The night of the music festival arrives, and the beach is abuzz with the sounds of laughter, music, and love. Aarav and Nalini take the stage, hand in hand, and let their hearts sing. The stars align, and the universe conspires to bring these two souls together.\n",
      "\n",
      "In the end, Aarav and Nalini realize that their love is worth fighting for. They decide to take the leap, to follow their hearts and build a life together in the magical state of Goa. As they watch the sun rise over the ocean, they know that their love will be the soundtrack to their journey, a melody that will play on forever.\n"
     ]
    }
   ],
   "source": [
    "response_groq = await chat_with_model(groq_model, session_id, user_input)\n",
    "print(f\"\\nModified Story from Groq:\\n{response_groq}\")"
   ]
  },
  {
   "cell_type": "code",
   "execution_count": 35,
   "metadata": {},
   "outputs": [
    {
     "name": "stdout",
     "output_type": "stream",
     "text": [
      "\n",
      "Modified Story from Cohere:\n",
      "Once upon a time, in the vibrant and picturesque state of Goa, there lived a young and charismatic man named Rohit. He was an aspiring musician, with a passion for playing the guitar and a dream to make it big in the world of music. One fateful day, while performing at a local beach cafe, he locked eyes with a beautiful and free-spirited woman named Sonali. She was an artist, with a love for painting and a heart that longed for adventure.\n",
      "\n",
      "As their eyes met, something magical happened. It was as if time stood still and they were the only two people in the world. They felt an instant connection, a pull that drew them towards each other. From that day on, they became inseparable. They spent their days exploring the beautiful beaches of Goa, swimming in the Arabian Sea, and wandering through the colorful streets of Panaji. They shared their dreams, their passions, and their love for the arts.\n",
      "\n",
      "Every sunset brought a new adventure. They would ride on Rohit's motorbike along the coast, feeling the warm breeze on their faces and watching the sky transform into a canvas of vibrant colors. They'd often stop at a secluded beach, lay out a blanket, and watch the stars appear, dreaming of the future they would build together. Sonali would paint, capturing the beauty of Goa in her art, and Rohit would serenade her with his guitar, their love inspiring his music.\n",
      "\n",
      "But their love story faced challenges. Sonali's parents did not approve of their relationship, believing that Rohit's musical aspirations were not a stable future for their daughter. They wanted her to follow a more traditional path. Heartbroken, the couple faced a difficult choice: to follow their hearts or conform to societal expectations.\n",
      "\n",
      "Determined to fight for their love, Rohit and Sonali decided to elope. They exchanged vows in a simple yet heartfelt ceremony on the beach, with the sound of the waves as their witness. They promised to support each other's dreams and face the world together. Their love only grew stronger as they navigated the challenges of building a life together.\n",
      "\n",
      "Goa became their sanctuary, a place where they found solace in each other's arms. They embraced the local culture, attending vibrant festivals, tasting delicious seafood, and immersing themselves in the warm hospitality of the Goan people. Their home became a haven of love and creativity, filled with music and art.\n",
      "\n",
      "Years passed, and their love only deepened. They had built a life together, filled with music, art, and the beauty of Goa. Their story inspired others, showing that true love conquers all and that following your passions can lead to a life of fulfillment.\n",
      "\n",
      "And so, their love story became a legend in Goa, a tale told by locals and tourists alike. A reminder that sometimes the most beautiful things in life are found when you follow your heart and embrace the magic that Goa has to offer.\n"
     ]
    }
   ],
   "source": [
    "# Get customized story responses\n",
    "response_groq = await chat_with_model(cohere_model, session_id, user_input)\n",
    "print(f\"\\nModified Story from Cohere:\\n{response_groq}\")"
   ]
  },
  {
   "cell_type": "code",
   "execution_count": null,
   "metadata": {},
   "outputs": [],
   "source": []
  }
 ],
 "metadata": {
  "kernelspec": {
   "display_name": "Python 3",
   "language": "python",
   "name": "python3"
  },
  "language_info": {
   "codemirror_mode": {
    "name": "ipython",
    "version": 3
   },
   "file_extension": ".py",
   "mimetype": "text/x-python",
   "name": "python",
   "nbconvert_exporter": "python",
   "pygments_lexer": "ipython3",
   "version": "3.12.1"
  }
 },
 "nbformat": 4,
 "nbformat_minor": 2
}
